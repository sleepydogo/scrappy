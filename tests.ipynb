{
 "cells": [
  {
   "cell_type": "code",
   "execution_count": 67,
   "metadata": {},
   "outputs": [],
   "source": [
    "import pandas as pd\n",
    "import os\n",
    "import re "
   ]
  },
  {
   "cell_type": "code",
   "execution_count": 68,
   "metadata": {},
   "outputs": [],
   "source": [
    "def limpiar_numero_telefono(numero):\n",
    "    # Eliminar todos los caracteres no numéricos\n",
    "    numero_limpio = re.sub(r'\\D', '', numero)\n",
    "    print(numero_limpio)\n",
    "    return numero_limpio"
   ]
  },
  {
   "cell_type": "code",
   "execution_count": 69,
   "metadata": {},
   "outputs": [
    {
     "name": "stdout",
     "output_type": "stream",
     "text": [
      "469\n",
      "0     +507 6515-0791\n",
      "1     +507 6718-0125\n",
      "2     +507 6071-7733\n",
      "3     +507 6020-8855\n",
      "4     +507 6718-0125\n",
      "           ...      \n",
      "62    +507 6677-2450\n",
      "63    +507 6660-1372\n",
      "64    +507 6071-7733\n",
      "65    +507 6280-9842\n",
      "66    +507 6020-8855\n",
      "Name: 3, Length: 67, dtype: object\n"
     ]
    }
   ],
   "source": [
    "# Ruta de la carpeta que contiene los archivos de Excel\n",
    "excel = 'datos2/Panama/filtro-2/datos_unicos_con_archivo.xlsx'\n",
    "\n",
    "df = pd.read_excel(excel)\n",
    "\n",
    "print(df.size)\n",
    "print(df[3])"
   ]
  },
  {
   "cell_type": "code",
   "execution_count": 70,
   "metadata": {},
   "outputs": [
    {
     "name": "stdout",
     "output_type": "stream",
     "text": [
      "50765150791\n",
      "50767180125\n",
      "50760717733\n",
      "50760208855\n",
      "50767180125\n",
      "50765150791\n",
      "50763387804\n",
      "50760892063\n",
      "50760717733\n",
      "50762809842\n",
      "50766911150\n",
      "50765150791\n",
      "50760717733\n",
      "50762809842\n",
      "50766911150\n",
      "50765150791\n",
      "50760717733\n",
      "50762809842\n",
      "50768313902\n",
      "50762556210\n",
      "50767486852\n",
      "50765753651\n",
      "50760717733\n",
      "50762809842\n",
      "50762901550\n",
      "50766911150\n",
      "50766689597\n",
      "50766806186\n",
      "50763656868\n",
      "50765457253\n",
      "50760208855\n",
      "50764569666\n",
      "50766743295\n",
      "50761405913\n",
      "50760208855\n",
      "50760857237\n",
      "50761501148\n",
      "50765187999\n",
      "50769994503\n",
      "50769804163\n",
      "50765150791\n",
      "50760717733\n",
      "50762809842\n",
      "50762901550\n",
      "50766911150\n",
      "50766689597\n",
      "50766806186\n",
      "50763656868\n",
      "50765457253\n",
      "50760208855\n",
      "50769994503\n",
      "50764569666\n",
      "50769804163\n",
      "50766743295\n",
      "50765150791\n",
      "50761405913\n",
      "50760208855\n",
      "50760857237\n",
      "50761501148\n",
      "50767180125\n",
      "50765187999\n",
      "50760892063\n",
      "50766772450\n",
      "50766601372\n",
      "50760717733\n",
      "50762809842\n",
      "50760208855\n"
     ]
    }
   ],
   "source": [
    "df[3] = df[3].apply(limpiar_numero_telefono)"
   ]
  },
  {
   "cell_type": "code",
   "execution_count": 71,
   "metadata": {},
   "outputs": [
    {
     "name": "stdout",
     "output_type": "stream",
     "text": [
      "     0                                           1                       2  \\\n",
      "0    0           Piquera De Taxi Santa Rita Arriba       Servicio de taxis   \n",
      "1    1            Radio taxi colón Rapido & Seguro       Servicio de taxis   \n",
      "2    4                        VITALPMA TAXI PANAMA       Servicio de taxis   \n",
      "3   11                    Oficina Easy Taxi Panamá       Servicio de taxis   \n",
      "6    3             TRANSPORTE ALFA OMEGA S.A. TAXI  Servicio de transporte   \n",
      "7    4                           Jungle Taxi Colon       Servicio de taxis   \n",
      "9    5                             VIP TAXI PANAMA       Servicio de taxis   \n",
      "10  10     Servicio de Taxi Las Lajas S,A. Setlasa       Servicio de taxis   \n",
      "18   0                             Taxi Serviradio       Servicio de taxis   \n",
      "19   1                                    My Taxis       Servicio de taxis   \n",
      "20   6                           Servicios de taxi       Servicio de taxis   \n",
      "21   8                     Parada del Antiguo IRHE         Parada de taxis   \n",
      "24   6                                 TSP, Panamá       Servicio de taxis   \n",
      "26   9                    City Jungle Taxi Service       Servicio de taxis   \n",
      "27  10                    Radio Taxi Plaza Tocumen       Servicio de taxis   \n",
      "28  11                 Taxi Costa Sur Panamá (TCS)         Parada de taxis   \n",
      "29  15                             Parada De Taxis         Parada de taxis   \n",
      "31  23                                ELOHIM TAXIS       Servicio de taxis   \n",
      "32  25                            Panama Taxitours       Servicio de taxis   \n",
      "33  27                         Move alquileres S.A       Servicio de taxis   \n",
      "35  29               Trasporte turistico507 Panamá       Servicio de taxis   \n",
      "36  30                                      Julian       Servicio de taxis   \n",
      "37  32              Parada Santa Librada 8va Etapa         Parada de taxis   \n",
      "38  35                                   Skytropic              Taxi aéreo   \n",
      "39  39                     Panamá Helicopter Tours              Taxi aéreo   \n",
      "62  49                           Elevair Seaplanes              Taxi aéreo   \n",
      "63  51  Piquera de Busitos Taxi Salamanca UTRASESA  Servicio de transporte   \n",
      "\n",
      "              3                                                  4  \\\n",
      "0   50765150791                                                  -   \n",
      "1   50767180125                                                  -   \n",
      "2   50760717733  https://www.facebook.com/profile.php?id=100069...   \n",
      "3   50760208855                                                  -   \n",
      "6   50763387804                                                  -   \n",
      "7   50760892063                         http://www.jungletaxi.biz/   \n",
      "9   50762809842  http://www.paginasamarillas.com.pa/empresas/vi...   \n",
      "10  50766911150                                                  -   \n",
      "18  50768313902                     http://app.taxiserviradio.com/   \n",
      "19  50762556210                                                  -   \n",
      "20  50767486852                                                  -   \n",
      "21  50765753651                                                  -   \n",
      "24  50762901550                                                  -   \n",
      "26  50766689597                                                  -   \n",
      "27  50766806186   https://chat.whatsapp.com/KzULrZDafUm2J8Vm5PsZef   \n",
      "28  50763656868           https://taxicostasur.wixsite.com/website   \n",
      "29  50765457253                                                  -   \n",
      "31  50764569666                                                  -   \n",
      "32  50766743295                                                  -   \n",
      "33  50761405913                                                  -   \n",
      "35  50760857237  https://taxy-services-and-tours-panama.negocio...   \n",
      "36  50761501148                                                  -   \n",
      "37  50765187999                                                  -   \n",
      "38  50769994503                                                  -   \n",
      "39  50769804163             https://www.panamahelicoptertours.com/   \n",
      "62  50766772450                         http://www.flyelevair.com/   \n",
      "63  50766601372                                                  -   \n",
      "\n",
      "                                             5                            6  \n",
      "0                                     85JX+954         Panama, Escobal.xlsx  \n",
      "1                                     85WW+26F         Panama, Escobal.xlsx  \n",
      "2                                            -  Panama, Balboa Heights.xlsx  \n",
      "3                         XFJH+JVJ, C. 53 Este  Panama, Balboa Heights.xlsx  \n",
      "6         85XQ+VPH, Via Principal de Sabanitas    Panama, Puerto Pilón.xlsx  \n",
      "7              Centro Universitario, Arco Iris    Panama, Puerto Pilón.xlsx  \n",
      "9                                            -          Panama, Pacora.xlsx  \n",
      "10                                    3FQ9+394          Panama, Pacora.xlsx  \n",
      "18                                 A Sur 504-2           Panama, David.xlsx  \n",
      "19                                           -           Panama, David.xlsx  \n",
      "20                                           -           Panama, David.xlsx  \n",
      "21                      CHMC+283, Av. 2a Oeste           Panama, David.xlsx  \n",
      "24                                         507         Panama, Tocumen.xlsx  \n",
      "26                       Cam. Real de Bethania         Panama, Tocumen.xlsx  \n",
      "27                                           -         Panama, Tocumen.xlsx  \n",
      "28            2HPJ+V49 Acceso Centro Comercial         Panama, Tocumen.xlsx  \n",
      "29           3JJ2+86M, Av. Jose Agustin Arango         Panama, Tocumen.xlsx  \n",
      "31                                    4M99+G36         Panama, Tocumen.xlsx  \n",
      "32             Hotel El Panamá, Vía España 111         Panama, Tocumen.xlsx  \n",
      "33                                         507         Panama, Tocumen.xlsx  \n",
      "35                                           -         Panama, Tocumen.xlsx  \n",
      "36                                         507         Panama, Tocumen.xlsx  \n",
      "37                                           -         Panama, Tocumen.xlsx  \n",
      "38    Aeropuerto Marcos Gelabert, Av. Canfield         Panama, Tocumen.xlsx  \n",
      "39  Hangar 16-B, Aeropuerto Marcos A. Gelabert         Panama, Tocumen.xlsx  \n",
      "62               Mapiex FBO, HangerAv Canfield     Panama, Panama City.xlsx  \n",
      "63                    784J+JX5, Vía Sardinilla     Panama, Panama City.xlsx  \n"
     ]
    }
   ],
   "source": [
    "result_df = df.drop_duplicates(subset=[3], keep='first')\n",
    "\n",
    "print(result_df)"
   ]
  },
  {
   "cell_type": "code",
   "execution_count": 72,
   "metadata": {},
   "outputs": [
    {
     "name": "stdout",
     "output_type": "stream",
     "text": [
      "    0                                  1                       2            3  \\\n",
      "0   0  Piquera De Taxi Santa Rita Arriba       Servicio de taxis  50765150791   \n",
      "1   1   Radio taxi colón Rapido & Seguro       Servicio de taxis  50767180125   \n",
      "2   4               VITALPMA TAXI PANAMA       Servicio de taxis  50760717733   \n",
      "3  11           Oficina Easy Taxi Panamá       Servicio de taxis  50760208855   \n",
      "6   3    TRANSPORTE ALFA OMEGA S.A. TAXI  Servicio de transporte  50763387804   \n",
      "\n",
      "                                                   4  \\\n",
      "0                                                  -   \n",
      "1                                                  -   \n",
      "2  https://www.facebook.com/profile.php?id=100069...   \n",
      "3                                                  -   \n",
      "6                                                  -   \n",
      "\n",
      "                                      5                            6  \\\n",
      "0                              85JX+954         Panama, Escobal.xlsx   \n",
      "1                              85WW+26F         Panama, Escobal.xlsx   \n",
      "2                                     -  Panama, Balboa Heights.xlsx   \n",
      "3                  XFJH+JVJ, C. 53 Este  Panama, Balboa Heights.xlsx   \n",
      "6  85XQ+VPH, Via Principal de Sabanitas    Panama, Puerto Pilón.xlsx   \n",
      "\n",
      "      EnlaceWhatsApp  \n",
      "0  wa.me/50765150791  \n",
      "1  wa.me/50767180125  \n",
      "2  wa.me/50760717733  \n",
      "3  wa.me/50760208855  \n",
      "6  wa.me/50763387804  \n"
     ]
    },
    {
     "name": "stderr",
     "output_type": "stream",
     "text": [
      "/tmp/ipykernel_20570/4127595373.py:5: SettingWithCopyWarning: \n",
      "A value is trying to be set on a copy of a slice from a DataFrame.\n",
      "Try using .loc[row_indexer,col_indexer] = value instead\n",
      "\n",
      "See the caveats in the documentation: https://pandas.pydata.org/pandas-docs/stable/user_guide/indexing.html#returning-a-view-versus-a-copy\n",
      "  result_df['EnlaceWhatsApp'] = result_df[3].apply(lambda x: agregar_prefijo_wa_me(x))\n"
     ]
    }
   ],
   "source": [
    "def agregar_prefijo_wa_me(numero):\n",
    "    return f'wa.me/{numero}'\n",
    "\n",
    "# Aplicar la función a la columna 'NumerosTelefonicos' y crear una nueva columna 'EnlaceWhatsApp'\n",
    "result_df['EnlaceWhatsApp'] = result_df[3].apply(lambda x: agregar_prefijo_wa_me(x))\n",
    "\n",
    "# Imprimir el DataFrame resultante\n",
    "print(result_df.head())"
   ]
  },
  {
   "cell_type": "code",
   "execution_count": 73,
   "metadata": {},
   "outputs": [],
   "source": [
    "# Guardar el DataFrame con los datos únicos y el nombre del archivo en un nuevo archivo Excel\n",
    "result_df.to_excel(os.path.join('datos2/Panama/datos-unicos.xlsx'), index=False)"
   ]
  },
  {
   "cell_type": "code",
   "execution_count": null,
   "metadata": {},
   "outputs": [],
   "source": []
  }
 ],
 "metadata": {
  "kernelspec": {
   "display_name": "Python 3",
   "language": "python",
   "name": "python3"
  },
  "language_info": {
   "codemirror_mode": {
    "name": "ipython",
    "version": 3
   },
   "file_extension": ".py",
   "mimetype": "text/x-python",
   "name": "python",
   "nbconvert_exporter": "python",
   "pygments_lexer": "ipython3",
   "version": "3.10.12"
  }
 },
 "nbformat": 4,
 "nbformat_minor": 2
}
